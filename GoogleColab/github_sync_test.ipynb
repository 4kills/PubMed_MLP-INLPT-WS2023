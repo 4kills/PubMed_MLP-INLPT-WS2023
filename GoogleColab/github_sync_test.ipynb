{
  "nbformat": 4,
  "nbformat_minor": 0,
  "metadata": {
    "colab": {
      "provenance": [],
      "include_colab_link": true
    },
    "kernelspec": {
      "name": "python3",
      "display_name": "Python 3"
    },
    "language_info": {
      "name": "python"
    }
  },
  "cells": [
    {
      "cell_type": "markdown",
      "metadata": {
        "id": "view-in-github",
        "colab_type": "text"
      },
      "source": [
        "<a href=\"https://colab.research.google.com/github/theosth/PubMed_MLP-INLPT-WS2023/blob/main/GoogleColab/github_sync_test.ipynb\" target=\"_parent\"><img src=\"https://colab.research.google.com/assets/colab-badge.svg\" alt=\"Open In Colab\"/></a>"
      ]
    },
    {
      "cell_type": "code",
      "execution_count": null,
      "metadata": {
        "colab": {
          "base_uri": "https://localhost:8080/"
        },
        "id": "xjXse2dQSjwf",
        "outputId": "54c96666-0402-4470-fef0-a8e6fb9c3aec"
      },
      "outputs": [
        {
          "output_type": "stream",
          "name": "stdout",
          "text": [
            "Cloning into 'PubMed_MLP-INLPT-WS2023'...\n",
            "fatal: could not read Username for 'https://github.com': No such device or address\n"
          ]
        }
      ],
      "source": [
        "!git clone https://github.com/theosth/PubMed_MLP-INLPT-WS2023.git"
      ]
    },
    {
      "cell_type": "code",
      "source": [
        "ss<dvaefgxvbsdfgvsdfgawedvasrfeqwa"
      ],
      "metadata": {
        "id": "MQma7P0eT4yd"
      },
      "execution_count": null,
      "outputs": []
    }
  ]
}