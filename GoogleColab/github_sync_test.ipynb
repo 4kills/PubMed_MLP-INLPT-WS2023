{
  "nbformat": 4,
  "nbformat_minor": 0,
  "metadata": {
    "colab": {
      "provenance": [],
      "authorship_tag": "ABX9TyPo5fe+z8YZWA16hI0mOHYz",
      "include_colab_link": true
    },
    "kernelspec": {
      "name": "python3",
      "display_name": "Python 3"
    },
    "language_info": {
      "name": "python"
    }
  },
  "cells": [
    {
      "cell_type": "markdown",
      "metadata": {
        "id": "view-in-github",
        "colab_type": "text"
      },
      "source": [
        "<a href=\"https://colab.research.google.com/github/theosth/PubMed_MLP-INLPT-WS2023/blob/main/GoogleColab/github_sync_test.ipynb\" target=\"_parent\"><img src=\"https://colab.research.google.com/assets/colab-badge.svg\" alt=\"Open In Colab\"/></a>"
      ]
    },
    {
      "cell_type": "markdown",
      "source": [
        "# This is just a sync test :\\)\n",
        "\n",
        "Just some changes"
      ],
      "metadata": {
        "id": "Hma6hB7BVV1S"
      }
    }
  ]
}